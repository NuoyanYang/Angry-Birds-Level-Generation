{
 "cells": [
  {
   "cell_type": "markdown",
   "id": "5f85f891",
   "metadata": {},
   "source": [
    "### Import packages"
   ]
  },
  {
   "cell_type": "code",
   "execution_count": 1,
   "id": "a1c55a00",
   "metadata": {},
   "outputs": [],
   "source": [
    "import tensorflow as tf\n",
    "from tensorflow import keras\n",
    "import numpy as np\n",
    "\n",
    "import json\n",
    "\n",
    "import txt2xml\n",
    "import os\n",
    "\n",
    "latent_size = 60"
   ]
  },
  {
   "cell_type": "markdown",
   "id": "fc5ddcd2",
   "metadata": {},
   "source": [
    "### Configurations:"
   ]
  },
  {
   "cell_type": "code",
   "execution_count": 2,
   "id": "427a2acc",
   "metadata": {},
   "outputs": [],
   "source": [
    "file_path = \"./generated_levels\""
   ]
  },
  {
   "cell_type": "code",
   "execution_count": 3,
   "id": "92964ec8",
   "metadata": {},
   "outputs": [],
   "source": [
    "latent_vec_list = []\n",
    "\n",
    "for i in range(5):\n",
    "    latent_vec = tf.random.normal(shape=[1, latent_size], mean=i*5, stddev=1)\n",
    "    latent_vec_list.append(latent_vec)\n",
    "    \n",
    "for i in range(5):\n",
    "    latent_vec = np.random.normal(5*(i+5), 1, latent_size)\n",
    "    latent_vec = tf.convert_to_tensor(latent_vec)\n",
    "    latent_vec_list.append(latent_vec)"
   ]
  },
  {
   "cell_type": "markdown",
   "id": "9942bb78",
   "metadata": {},
   "source": [
    "### Load dictionaries and model:"
   ]
  },
  {
   "cell_type": "code",
   "execution_count": 4,
   "id": "b459d4fb",
   "metadata": {},
   "outputs": [],
   "source": [
    "with open(\"vocabulary.json\") as json_file:\n",
    "    vocab = json.load(json_file)\n",
    "\n",
    "with open(\"vocab_dec.json\") as json_file:\n",
    "    vocab_dec = json.load(json_file)"
   ]
  },
  {
   "cell_type": "code",
   "execution_count": 5,
   "id": "a95a7a2c",
   "metadata": {},
   "outputs": [
    {
     "name": "stdout",
     "output_type": "stream",
     "text": [
      "WARNING:tensorflow:No training configuration found in save file, so the model was *not* compiled. Compile it manually.\n"
     ]
    }
   ],
   "source": [
    "variational_decoder = tf.keras.models.load_model(\"./saved_models/variational_decoder.tf\")"
   ]
  },
  {
   "cell_type": "markdown",
   "id": "eafddb19",
   "metadata": {},
   "source": [
    "### Define functions:"
   ]
  },
  {
   "cell_type": "code",
   "execution_count": 6,
   "id": "34840b41",
   "metadata": {},
   "outputs": [],
   "source": [
    "def generate_single(latent_vec, variational_decoder = variational_decoder, vocab_dec = vocab_dec, max_length = 30):\n",
    "    generated = \"\"\n",
    "    for idx in range(max_length):\n",
    "        decoder_inputs = tf.constant([\"sos \" + generated])\n",
    "        latent_vec = tf.random.normal(shape=[1, latent_size])\n",
    "        Y_proba = variational_decoder.predict((latent_vec, decoder_inputs))[0, idx]\n",
    "        predicted_id = np.argmax(Y_proba)\n",
    "        predicted_word = vocab_dec[predicted_id]\n",
    "        if predicted_word == \"eos\":\n",
    "            break\n",
    "        generated += \" \" + predicted_word\n",
    "    return generated.strip().split()"
   ]
  },
  {
   "cell_type": "code",
   "execution_count": 7,
   "id": "bc5d7525",
   "metadata": {},
   "outputs": [],
   "source": [
    "def generate(latent_vec_list, file_path = file_path):\n",
    "    deconverter = txt2xml.txt2xml()\n",
    "    for i in range(len(latent_vec_list)):\n",
    "        latent_vec = latent_vec_list[i]\n",
    "        level = generate_single(latent_vec)\n",
    "        level_txt = [vocab[int(s)] for s in level]\n",
    "        level_xml = deconverter.vector2xml(level_txt)\n",
    "        with open(file_path + \"/level-vec-\" + str(i) + \".xml\", \"w\") as f:\n",
    "            f.write(level_xml)\n",
    "    print(\"Done\")"
   ]
  },
  {
   "cell_type": "markdown",
   "id": "6047e78f",
   "metadata": {},
   "source": [
    "### Generate:"
   ]
  },
  {
   "cell_type": "code",
   "execution_count": 8,
   "id": "f0b4eba3",
   "metadata": {},
   "outputs": [
    {
     "name": "stdout",
     "output_type": "stream",
     "text": [
      "1/1 [==============================] - 4s 4s/step\n",
      "1/1 [==============================] - 0s 31ms/step\n",
      "1/1 [==============================] - 0s 40ms/step\n",
      "1/1 [==============================] - 0s 40ms/step\n",
      "1/1 [==============================] - 0s 40ms/step\n",
      "1/1 [==============================] - 0s 40ms/step\n",
      "1/1 [==============================] - 0s 40ms/step\n",
      "1/1 [==============================] - 0s 40ms/step\n",
      "1/1 [==============================] - 0s 52ms/step\n",
      "1/1 [==============================] - 0s 40ms/step\n",
      "1/1 [==============================] - 0s 40ms/step\n",
      "1/1 [==============================] - 0s 47ms/step\n",
      "1/1 [==============================] - 0s 43ms/step\n",
      "1/1 [==============================] - 0s 29ms/step\n",
      "1/1 [==============================] - 0s 38ms/step\n",
      "1/1 [==============================] - 0s 50ms/step\n",
      "1/1 [==============================] - 0s 43ms/step\n",
      "1/1 [==============================] - 0s 43ms/step\n",
      "1/1 [==============================] - 0s 40ms/step\n",
      "1/1 [==============================] - 0s 44ms/step\n",
      "1/1 [==============================] - 0s 46ms/step\n",
      "1/1 [==============================] - 0s 38ms/step\n",
      "1/1 [==============================] - 0s 40ms/step\n",
      "1/1 [==============================] - 0s 56ms/step\n",
      "1/1 [==============================] - 0s 29ms/step\n",
      "1/1 [==============================] - 0s 36ms/step\n",
      "1/1 [==============================] - 0s 35ms/step\n",
      "1/1 [==============================] - 0s 30ms/step\n",
      "1/1 [==============================] - 0s 33ms/step\n",
      "1/1 [==============================] - 0s 31ms/step\n",
      "1/1 [==============================] - 0s 45ms/step\n",
      "1/1 [==============================] - 0s 40ms/step\n",
      "1/1 [==============================] - 0s 40ms/step\n",
      "1/1 [==============================] - 0s 40ms/step\n",
      "1/1 [==============================] - 0s 44ms/step\n",
      "1/1 [==============================] - 0s 42ms/step\n",
      "1/1 [==============================] - 0s 36ms/step\n",
      "1/1 [==============================] - 0s 46ms/step\n",
      "1/1 [==============================] - 0s 35ms/step\n",
      "1/1 [==============================] - 0s 52ms/step\n",
      "1/1 [==============================] - 0s 41ms/step\n",
      "1/1 [==============================] - 0s 40ms/step\n",
      "1/1 [==============================] - 0s 40ms/step\n",
      "1/1 [==============================] - 0s 46ms/step\n",
      "1/1 [==============================] - 0s 45ms/step\n",
      "1/1 [==============================] - 0s 46ms/step\n",
      "1/1 [==============================] - 0s 52ms/step\n",
      "1/1 [==============================] - 0s 53ms/step\n",
      "1/1 [==============================] - 0s 35ms/step\n",
      "1/1 [==============================] - 0s 35ms/step\n",
      "1/1 [==============================] - 0s 50ms/step\n",
      "1/1 [==============================] - 0s 40ms/step\n",
      "1/1 [==============================] - 0s 43ms/step\n",
      "1/1 [==============================] - 0s 48ms/step\n",
      "1/1 [==============================] - 0s 39ms/step\n",
      "1/1 [==============================] - 0s 38ms/step\n",
      "1/1 [==============================] - 0s 37ms/step\n",
      "1/1 [==============================] - 0s 45ms/step\n",
      "1/1 [==============================] - 0s 41ms/step\n",
      "1/1 [==============================] - 0s 39ms/step\n",
      "1/1 [==============================] - 0s 43ms/step\n",
      "1/1 [==============================] - 0s 29ms/step\n",
      "1/1 [==============================] - 0s 40ms/step\n",
      "1/1 [==============================] - 0s 33ms/step\n",
      "1/1 [==============================] - 0s 35ms/step\n",
      "1/1 [==============================] - 0s 43ms/step\n",
      "1/1 [==============================] - 0s 48ms/step\n",
      "1/1 [==============================] - 0s 44ms/step\n",
      "1/1 [==============================] - 0s 50ms/step\n",
      "1/1 [==============================] - 0s 55ms/step\n",
      "1/1 [==============================] - 0s 50ms/step\n",
      "1/1 [==============================] - 0s 51ms/step\n",
      "1/1 [==============================] - 0s 41ms/step\n",
      "1/1 [==============================] - 0s 32ms/step\n",
      "1/1 [==============================] - 0s 31ms/step\n",
      "1/1 [==============================] - 0s 36ms/step\n",
      "1/1 [==============================] - 0s 30ms/step\n",
      "1/1 [==============================] - 0s 33ms/step\n",
      "1/1 [==============================] - 0s 42ms/step\n",
      "1/1 [==============================] - 0s 49ms/step\n",
      "1/1 [==============================] - 0s 41ms/step\n",
      "1/1 [==============================] - 0s 53ms/step\n",
      "1/1 [==============================] - 0s 47ms/step\n",
      "1/1 [==============================] - 0s 31ms/step\n",
      "1/1 [==============================] - 0s 50ms/step\n",
      "1/1 [==============================] - 0s 50ms/step\n",
      "1/1 [==============================] - 0s 40ms/step\n",
      "1/1 [==============================] - 0s 37ms/step\n",
      "1/1 [==============================] - 0s 37ms/step\n",
      "1/1 [==============================] - 0s 32ms/step\n",
      "1/1 [==============================] - 0s 34ms/step\n",
      "1/1 [==============================] - 0s 54ms/step\n",
      "1/1 [==============================] - 0s 51ms/step\n",
      "1/1 [==============================] - 0s 42ms/step\n",
      "1/1 [==============================] - 0s 41ms/step\n",
      "1/1 [==============================] - 0s 44ms/step\n",
      "1/1 [==============================] - 0s 34ms/step\n",
      "1/1 [==============================] - 0s 28ms/step\n",
      "1/1 [==============================] - 0s 40ms/step\n",
      "1/1 [==============================] - 0s 30ms/step\n",
      "1/1 [==============================] - 0s 35ms/step\n",
      "1/1 [==============================] - 0s 35ms/step\n",
      "1/1 [==============================] - 0s 42ms/step\n",
      "1/1 [==============================] - 0s 43ms/step\n",
      "1/1 [==============================] - 0s 54ms/step\n",
      "1/1 [==============================] - 0s 43ms/step\n",
      "1/1 [==============================] - 0s 42ms/step\n",
      "1/1 [==============================] - 0s 42ms/step\n",
      "1/1 [==============================] - 0s 37ms/step\n",
      "1/1 [==============================] - 0s 32ms/step\n",
      "1/1 [==============================] - 0s 30ms/step\n",
      "1/1 [==============================] - 0s 42ms/step\n",
      "1/1 [==============================] - 0s 43ms/step\n",
      "1/1 [==============================] - 0s 40ms/step\n",
      "1/1 [==============================] - 0s 31ms/step\n",
      "1/1 [==============================] - 0s 38ms/step\n",
      "1/1 [==============================] - 0s 42ms/step\n",
      "1/1 [==============================] - 0s 45ms/step\n",
      "1/1 [==============================] - 0s 38ms/step\n",
      "1/1 [==============================] - 0s 38ms/step\n",
      "Done\n"
     ]
    }
   ],
   "source": [
    "generate(latent_vec_list)"
   ]
  },
  {
   "cell_type": "code",
   "execution_count": null,
   "id": "a7688f1c",
   "metadata": {},
   "outputs": [],
   "source": []
  }
 ],
 "metadata": {
  "kernelspec": {
   "display_name": "Python 3 (ipykernel)",
   "language": "python",
   "name": "python3"
  },
  "language_info": {
   "codemirror_mode": {
    "name": "ipython",
    "version": 3
   },
   "file_extension": ".py",
   "mimetype": "text/x-python",
   "name": "python",
   "nbconvert_exporter": "python",
   "pygments_lexer": "ipython3",
   "version": "3.10.5"
  }
 },
 "nbformat": 4,
 "nbformat_minor": 5
}
