{
 "cells": [
  {
   "cell_type": "markdown",
   "id": "5f85f891",
   "metadata": {},
   "source": [
    "### Import packages"
   ]
  },
  {
   "cell_type": "code",
   "execution_count": 1,
   "id": "a1c55a00",
   "metadata": {},
   "outputs": [
    {
     "name": "stderr",
     "output_type": "stream",
     "text": [
      "d:\\anaconda3\\lib\\site-packages\\scipy\\__init__.py:138: UserWarning: A NumPy version >=1.16.5 and <1.23.0 is required for this version of SciPy (detected version 1.24.2)\n",
      "  warnings.warn(f\"A NumPy version >={np_minversion} and <{np_maxversion} is required for this version of \"\n"
     ]
    }
   ],
   "source": [
    "import numpy as np\n",
    "import pandas as pd\n",
    "\n",
    "from generator import fitness, generate\n",
    "from utility.loader import get_batch\n",
    "from utility.vae import VAE\n",
    "from chainer import serializers"
   ]
  },
  {
   "attachments": {},
   "cell_type": "markdown",
   "id": "52a64023",
   "metadata": {},
   "source": [
    "### Configurations:"
   ]
  },
  {
   "cell_type": "code",
   "execution_count": 2,
   "id": "54ff9846",
   "metadata": {},
   "outputs": [],
   "source": [
    "file_path = \".\"\n",
    "model_dir = \"saved_models\"\n",
    "\n",
    "train_path = f\"{file_path}/{model_dir}/train.txt\""
   ]
  },
  {
   "attachments": {},
   "cell_type": "markdown",
   "id": "fc5ddcd2",
   "metadata": {},
   "source": [
    "### Initialize variational autoencoder:"
   ]
  },
  {
   "cell_type": "code",
   "execution_count": 3,
   "id": "15dbe962",
   "metadata": {},
   "outputs": [],
   "source": [
    "vae = VAE(50, 1, 400, 0.3, 60, 180, train_path, 501)\n",
    "model_name = f\"{file_path}/{model_dir}/models/aibirds_word_500\"\n",
    "serializers.load_npz(model_name, vae)"
   ]
  },
  {
   "attachments": {},
   "cell_type": "markdown",
   "id": "e488d857",
   "metadata": {},
   "source": [
    "*   Encode training data into latent vectors:"
   ]
  },
  {
   "cell_type": "code",
   "execution_count": 4,
   "id": "a5594f0a",
   "metadata": {},
   "outputs": [],
   "source": [
    "for batch in get_batch(vae.vocab, train_path, 180, False):\n",
    "    mu, _ = vae.encode(batch)"
   ]
  },
  {
   "cell_type": "code",
   "execution_count": 5,
   "id": "37e7a129",
   "metadata": {},
   "outputs": [],
   "source": [
    "latent_vecs = mu.array"
   ]
  },
  {
   "attachments": {},
   "cell_type": "markdown",
   "id": "de5efd3e",
   "metadata": {},
   "source": [
    "*   Save in a dataframe"
   ]
  },
  {
   "cell_type": "code",
   "execution_count": 6,
   "id": "5c152489",
   "metadata": {},
   "outputs": [
    {
     "data": {
      "text/html": [
       "<div>\n",
       "<style scoped>\n",
       "    .dataframe tbody tr th:only-of-type {\n",
       "        vertical-align: middle;\n",
       "    }\n",
       "\n",
       "    .dataframe tbody tr th {\n",
       "        vertical-align: top;\n",
       "    }\n",
       "\n",
       "    .dataframe thead th {\n",
       "        text-align: right;\n",
       "    }\n",
       "</style>\n",
       "<table border=\"1\" class=\"dataframe\">\n",
       "  <thead>\n",
       "    <tr style=\"text-align: right;\">\n",
       "      <th></th>\n",
       "      <th>dim1</th>\n",
       "      <th>dim2</th>\n",
       "      <th>dim3</th>\n",
       "      <th>dim4</th>\n",
       "      <th>dim5</th>\n",
       "      <th>dim6</th>\n",
       "      <th>dim7</th>\n",
       "      <th>dim8</th>\n",
       "      <th>dim9</th>\n",
       "      <th>dim10</th>\n",
       "      <th>...</th>\n",
       "      <th>dim51</th>\n",
       "      <th>dim52</th>\n",
       "      <th>dim53</th>\n",
       "      <th>dim54</th>\n",
       "      <th>dim55</th>\n",
       "      <th>dim56</th>\n",
       "      <th>dim57</th>\n",
       "      <th>dim58</th>\n",
       "      <th>dim59</th>\n",
       "      <th>dim60</th>\n",
       "    </tr>\n",
       "  </thead>\n",
       "  <tbody>\n",
       "    <tr>\n",
       "      <th>0</th>\n",
       "      <td>0.146544</td>\n",
       "      <td>-0.142479</td>\n",
       "      <td>0.156169</td>\n",
       "      <td>-0.175538</td>\n",
       "      <td>0.302417</td>\n",
       "      <td>-0.071271</td>\n",
       "      <td>-0.012902</td>\n",
       "      <td>-0.027739</td>\n",
       "      <td>-0.114900</td>\n",
       "      <td>-0.136111</td>\n",
       "      <td>...</td>\n",
       "      <td>0.719494</td>\n",
       "      <td>0.201832</td>\n",
       "      <td>-0.117302</td>\n",
       "      <td>0.005195</td>\n",
       "      <td>-0.315903</td>\n",
       "      <td>0.054833</td>\n",
       "      <td>0.236369</td>\n",
       "      <td>1.004022</td>\n",
       "      <td>0.223223</td>\n",
       "      <td>-0.071229</td>\n",
       "    </tr>\n",
       "    <tr>\n",
       "      <th>1</th>\n",
       "      <td>0.015102</td>\n",
       "      <td>0.091026</td>\n",
       "      <td>0.139189</td>\n",
       "      <td>-0.257915</td>\n",
       "      <td>-0.223623</td>\n",
       "      <td>-0.094606</td>\n",
       "      <td>-0.014248</td>\n",
       "      <td>-0.114900</td>\n",
       "      <td>-0.135874</td>\n",
       "      <td>0.096594</td>\n",
       "      <td>...</td>\n",
       "      <td>0.811771</td>\n",
       "      <td>0.064126</td>\n",
       "      <td>-0.141807</td>\n",
       "      <td>-0.224444</td>\n",
       "      <td>0.031261</td>\n",
       "      <td>0.021533</td>\n",
       "      <td>0.042979</td>\n",
       "      <td>1.238492</td>\n",
       "      <td>0.380081</td>\n",
       "      <td>-0.125611</td>\n",
       "    </tr>\n",
       "    <tr>\n",
       "      <th>2</th>\n",
       "      <td>0.093116</td>\n",
       "      <td>-0.063505</td>\n",
       "      <td>-0.045592</td>\n",
       "      <td>0.149789</td>\n",
       "      <td>-0.091598</td>\n",
       "      <td>0.040074</td>\n",
       "      <td>-0.178543</td>\n",
       "      <td>-0.055285</td>\n",
       "      <td>0.037268</td>\n",
       "      <td>0.024610</td>\n",
       "      <td>...</td>\n",
       "      <td>-0.301993</td>\n",
       "      <td>0.179947</td>\n",
       "      <td>0.025036</td>\n",
       "      <td>-0.066210</td>\n",
       "      <td>-0.229901</td>\n",
       "      <td>0.142224</td>\n",
       "      <td>0.142641</td>\n",
       "      <td>-0.625883</td>\n",
       "      <td>-0.150603</td>\n",
       "      <td>-0.047738</td>\n",
       "    </tr>\n",
       "    <tr>\n",
       "      <th>3</th>\n",
       "      <td>-0.017193</td>\n",
       "      <td>-0.068952</td>\n",
       "      <td>-0.070259</td>\n",
       "      <td>-0.220292</td>\n",
       "      <td>0.404467</td>\n",
       "      <td>0.083280</td>\n",
       "      <td>0.238296</td>\n",
       "      <td>0.387524</td>\n",
       "      <td>0.113092</td>\n",
       "      <td>-0.056564</td>\n",
       "      <td>...</td>\n",
       "      <td>-0.895009</td>\n",
       "      <td>0.251918</td>\n",
       "      <td>-0.139248</td>\n",
       "      <td>0.178524</td>\n",
       "      <td>0.197034</td>\n",
       "      <td>-0.113163</td>\n",
       "      <td>-0.256855</td>\n",
       "      <td>0.225072</td>\n",
       "      <td>-0.166616</td>\n",
       "      <td>-0.034359</td>\n",
       "    </tr>\n",
       "    <tr>\n",
       "      <th>4</th>\n",
       "      <td>0.063370</td>\n",
       "      <td>-0.058646</td>\n",
       "      <td>-0.240935</td>\n",
       "      <td>-0.312472</td>\n",
       "      <td>0.723495</td>\n",
       "      <td>0.158388</td>\n",
       "      <td>0.249680</td>\n",
       "      <td>0.360090</td>\n",
       "      <td>-0.111475</td>\n",
       "      <td>0.145971</td>\n",
       "      <td>...</td>\n",
       "      <td>0.190381</td>\n",
       "      <td>0.111714</td>\n",
       "      <td>-0.294294</td>\n",
       "      <td>0.179444</td>\n",
       "      <td>-0.213940</td>\n",
       "      <td>0.222174</td>\n",
       "      <td>-0.054278</td>\n",
       "      <td>-1.323820</td>\n",
       "      <td>0.069491</td>\n",
       "      <td>0.053679</td>\n",
       "    </tr>\n",
       "  </tbody>\n",
       "</table>\n",
       "<p>5 rows × 60 columns</p>\n",
       "</div>"
      ],
      "text/plain": [
       "       dim1      dim2      dim3      dim4      dim5      dim6      dim7  \\\n",
       "0  0.146544 -0.142479  0.156169 -0.175538  0.302417 -0.071271 -0.012902   \n",
       "1  0.015102  0.091026  0.139189 -0.257915 -0.223623 -0.094606 -0.014248   \n",
       "2  0.093116 -0.063505 -0.045592  0.149789 -0.091598  0.040074 -0.178543   \n",
       "3 -0.017193 -0.068952 -0.070259 -0.220292  0.404467  0.083280  0.238296   \n",
       "4  0.063370 -0.058646 -0.240935 -0.312472  0.723495  0.158388  0.249680   \n",
       "\n",
       "       dim8      dim9     dim10  ...     dim51     dim52     dim53     dim54  \\\n",
       "0 -0.027739 -0.114900 -0.136111  ...  0.719494  0.201832 -0.117302  0.005195   \n",
       "1 -0.114900 -0.135874  0.096594  ...  0.811771  0.064126 -0.141807 -0.224444   \n",
       "2 -0.055285  0.037268  0.024610  ... -0.301993  0.179947  0.025036 -0.066210   \n",
       "3  0.387524  0.113092 -0.056564  ... -0.895009  0.251918 -0.139248  0.178524   \n",
       "4  0.360090 -0.111475  0.145971  ...  0.190381  0.111714 -0.294294  0.179444   \n",
       "\n",
       "      dim55     dim56     dim57     dim58     dim59     dim60  \n",
       "0 -0.315903  0.054833  0.236369  1.004022  0.223223 -0.071229  \n",
       "1  0.031261  0.021533  0.042979  1.238492  0.380081 -0.125611  \n",
       "2 -0.229901  0.142224  0.142641 -0.625883 -0.150603 -0.047738  \n",
       "3  0.197034 -0.113163 -0.256855  0.225072 -0.166616 -0.034359  \n",
       "4 -0.213940  0.222174 -0.054278 -1.323820  0.069491  0.053679  \n",
       "\n",
       "[5 rows x 60 columns]"
      ]
     },
     "execution_count": 6,
     "metadata": {},
     "output_type": "execute_result"
    }
   ],
   "source": [
    "columns = [f\"dim{i}\" for i in range(1,61)]\n",
    "encoded_training = pd.DataFrame(latent_vecs, columns=columns)\n",
    "encoded_training.head()"
   ]
  },
  {
   "attachments": {},
   "cell_type": "markdown",
   "id": "109e2eca",
   "metadata": {},
   "source": [
    "*   Save as csv file\n",
    "    *   `encoded_training.csv` is later moved to other directories."
   ]
  },
  {
   "cell_type": "code",
   "execution_count": 7,
   "id": "738604e1",
   "metadata": {},
   "outputs": [],
   "source": [
    "encoded_training.to_csv(\"encoded_training.csv\", index=False)"
   ]
  },
  {
   "attachments": {},
   "cell_type": "markdown",
   "id": "3e037630",
   "metadata": {},
   "source": [
    "*   Obtain fitness"
   ]
  },
  {
   "cell_type": "code",
   "execution_count": 8,
   "id": "5bf75d19",
   "metadata": {},
   "outputs": [],
   "source": [
    "latent_vecs_list = []\n",
    "for i in range(len(latent_vecs)):\n",
    "    latent_vecs_list.append(np.reshape(latent_vecs[i], (1,60)))"
   ]
  },
  {
   "cell_type": "code",
   "execution_count": 15,
   "id": "6b3b7000",
   "metadata": {},
   "outputs": [
    {
     "name": "stderr",
     "output_type": "stream",
     "text": [
      "100%|██████████| 180/180 [00:38<00:00,  4.70it/s]\n"
     ]
    }
   ],
   "source": [
    "fitness_list = fitness(latent_vecs = latent_vecs_list, \n",
    "                       file_path = file_path, \n",
    "                       model_dir = model_dir)"
   ]
  },
  {
   "cell_type": "code",
   "execution_count": 18,
   "id": "b50f6744",
   "metadata": {},
   "outputs": [
    {
     "data": {
      "text/html": [
       "<div>\n",
       "<style scoped>\n",
       "    .dataframe tbody tr th:only-of-type {\n",
       "        vertical-align: middle;\n",
       "    }\n",
       "\n",
       "    .dataframe tbody tr th {\n",
       "        vertical-align: top;\n",
       "    }\n",
       "\n",
       "    .dataframe thead th {\n",
       "        text-align: right;\n",
       "    }\n",
       "</style>\n",
       "<table border=\"1\" class=\"dataframe\">\n",
       "  <thead>\n",
       "    <tr style=\"text-align: right;\">\n",
       "      <th></th>\n",
       "      <th>pig_count</th>\n",
       "      <th>tnt_count</th>\n",
       "      <th>material_types</th>\n",
       "      <th>object_types</th>\n",
       "      <th>object_count</th>\n",
       "    </tr>\n",
       "  </thead>\n",
       "  <tbody>\n",
       "    <tr>\n",
       "      <th>0</th>\n",
       "      <td>1</td>\n",
       "      <td>0</td>\n",
       "      <td>4</td>\n",
       "      <td>8</td>\n",
       "      <td>19</td>\n",
       "    </tr>\n",
       "    <tr>\n",
       "      <th>1</th>\n",
       "      <td>2</td>\n",
       "      <td>3</td>\n",
       "      <td>4</td>\n",
       "      <td>11</td>\n",
       "      <td>70</td>\n",
       "    </tr>\n",
       "    <tr>\n",
       "      <th>2</th>\n",
       "      <td>4</td>\n",
       "      <td>0</td>\n",
       "      <td>4</td>\n",
       "      <td>7</td>\n",
       "      <td>41</td>\n",
       "    </tr>\n",
       "    <tr>\n",
       "      <th>3</th>\n",
       "      <td>1</td>\n",
       "      <td>1</td>\n",
       "      <td>4</td>\n",
       "      <td>9</td>\n",
       "      <td>21</td>\n",
       "    </tr>\n",
       "    <tr>\n",
       "      <th>4</th>\n",
       "      <td>4</td>\n",
       "      <td>0</td>\n",
       "      <td>4</td>\n",
       "      <td>6</td>\n",
       "      <td>19</td>\n",
       "    </tr>\n",
       "  </tbody>\n",
       "</table>\n",
       "</div>"
      ],
      "text/plain": [
       "   pig_count  tnt_count  material_types  object_types  object_count\n",
       "0          1          0               4             8            19\n",
       "1          2          3               4            11            70\n",
       "2          4          0               4             7            41\n",
       "3          1          1               4             9            21\n",
       "4          4          0               4             6            19"
      ]
     },
     "execution_count": 18,
     "metadata": {},
     "output_type": "execute_result"
    }
   ],
   "source": [
    "fitness_columns = ['pig_count', 'tnt_count', 'material_types', 'object_types', 'object_count']\n",
    "encoded_training_fitness = pd.DataFrame(np.array(fitness_list), columns=fitness_columns)\n",
    "encoded_training_fitness.head()"
   ]
  },
  {
   "attachments": {},
   "cell_type": "markdown",
   "id": "e92f72aa",
   "metadata": {},
   "source": [
    "*   Save as csv file\n",
    "    *   `encoded_training_fitness.csv` is later moved to other directories."
   ]
  },
  {
   "cell_type": "code",
   "execution_count": 19,
   "id": "fa095e08",
   "metadata": {},
   "outputs": [],
   "source": [
    "encoded_training_fitness.to_csv(\"encoded_training_fitness.csv\", index=False)"
   ]
  }
 ],
 "metadata": {
  "kernelspec": {
   "display_name": "Python 3 (ipykernel)",
   "language": "python",
   "name": "python3"
  },
  "language_info": {
   "codemirror_mode": {
    "name": "ipython",
    "version": 3
   },
   "file_extension": ".py",
   "mimetype": "text/x-python",
   "name": "python",
   "nbconvert_exporter": "python",
   "pygments_lexer": "ipython3",
   "version": "3.9.13"
  }
 },
 "nbformat": 4,
 "nbformat_minor": 5
}
